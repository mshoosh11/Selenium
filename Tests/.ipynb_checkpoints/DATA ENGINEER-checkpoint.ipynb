{
 "cells": [
  {
   "cell_type": "markdown",
   "id": "north-leather",
   "metadata": {},
   "source": [
    "<h2 align=\"center\">Data Engineer Evaluation</h2>"
   ]
  },
  {
   "cell_type": "markdown",
   "id": "complete-title",
   "metadata": {},
   "source": [
    "## Deliverables"
   ]
  },
  {
   "cell_type": "markdown",
   "id": "present-mailing",
   "metadata": {},
   "source": [
    "<div class=\"alert alert-block alert-info\">\n",
    "<div class=\"alert alert-block alert-danger\">1. You have received a repo containing a folder named <b>Tests</b>. Please keep the structure of this folder as it is and do not modify anything in assets folder. You can add your own folders inside Tests folder.</div>\n",
    "<div class=\"alert alert-block alert-warning\">2. You have to submit dumps of both mongodb collections for idealista and metromadrid. To do so create a folder named <b>dbdumps</b> inside Tests folder and put you db dumps in that folder.</div>\n",
    "<div class=\"alert alert-block alert-success\">3. Once done with the code, commit your final changes and inform us by email.</div>\n",
    "</div>"
   ]
  },
  {
   "cell_type": "markdown",
   "id": "perceived-preserve",
   "metadata": {},
   "source": [
    "***"
   ]
  },
  {
   "cell_type": "markdown",
   "id": "graphic-battle",
   "metadata": {},
   "source": [
    "## Problem Statement"
   ]
  },
  {
   "cell_type": "markdown",
   "id": "tropical-probe",
   "metadata": {},
   "source": [
    "You are going to scrape following websites\n",
    "1. idealista - https://www.idealista.com/maps/madrid-madrid/\n",
    "2. metromadrid - https://ctmulti.metromadrid.es/ctmulti/accesytevisor/index.html"
   ]
  },
  {
   "cell_type": "markdown",
   "id": "aware-zoning",
   "metadata": {},
   "source": [
    "<div class=\"alert alert-block alert-info\">\n",
    "Both sites are offered in <b>multiple languages</b>. You can choose the language you are comfortable with.\n",
    "</div>\n"
   ]
  },
  {
   "cell_type": "markdown",
   "id": "south-bosnia",
   "metadata": {},
   "source": [
    "## Approach(s)"
   ]
  },
  {
   "cell_type": "markdown",
   "id": "explicit-endorsement",
   "metadata": {},
   "source": [
    "## 1. idealista\n",
    "***\n",
    "Navigate to above mentioned idealista link you will find something like this\n",
    "<img src=\"../Tests/assets/test_i_1.png\" alt=\"Home\" text=\"Enjoy your Test ;)\" />\n",
    "<h3 align=\"center\">Picture-1</h3>"
   ]
  },
  {
   "cell_type": "markdown",
   "id": "second-analyst",
   "metadata": {},
   "source": [
    "You can see a list of streets in the left pane. If you click any of the street, you will be redirected to the following page\n",
    "<img src=\"../Tests/assets/test_i_2.png\" alt=\"Buildings in Street\" text=\"Hola\"/>\n",
    "<h3 align=\"center\">Picture-2</h3>"
   ]
  },
  {
   "cell_type": "markdown",
   "id": "given-legislature",
   "metadata": {},
   "source": [
    "As you can see in Picture-2 **0, 2, 4, 5, 7** are buildings in this particular streets."
   ]
  },
  {
   "cell_type": "markdown",
   "id": "scientific-regulation",
   "metadata": {},
   "source": [
    "When you click on any of these buildings you will find something like this\n",
    "<img src=\"../Tests/assets/test_i_3.png\" alt=\"picture 3\" text=\"Print smiley face at the end of each task for 10 bonus points\"/>\n",
    "<h3 align=\"center\">Picture-3</h3>"
   ]
  },
  {
   "cell_type": "markdown",
   "id": "hydraulic-wrestling",
   "metadata": {},
   "source": [
    "#### Your Goal\n",
    "***\n",
    "1. get first 150 streets\n",
    "2. In each street, get all buildings\n",
    "3. with in each building you will be scraping **chracteristics of the building** part in each building and saving it in mongodb collection."
   ]
  },
  {
   "cell_type": "markdown",
   "id": "breeding-applicant",
   "metadata": {},
   "source": [
    "<div class=\"alert alert-block alert-warning\">\n",
    "where in Picture-3 <b>id</b> is the first 14 digits of properties i.e. 0447208VK4704G and it will be unique against all properties. \n",
    "</div>"
   ]
  },
  {
   "cell_type": "markdown",
   "id": "minute-correspondence",
   "metadata": {},
   "source": [
    "4. Once you have all the buildings in 150 streets in a database you have to create indexes for more efficiency \n",
    "5. Query the database to find and display following results:\n",
    "    1. building id with maximum number of floors\n",
    "    2. Number of buildings containing lifts\n",
    "    3. Number of buildings containing storage\n",
    "    4. Number of buildings containing both lift and storage\n",
    "    5. Average floors in each building"
   ]
  },
  {
   "cell_type": "markdown",
   "id": "global-criminal",
   "metadata": {},
   "source": [
    "***\n",
    "***"
   ]
  },
  {
   "cell_type": "markdown",
   "id": "entertaining-liquid",
   "metadata": {},
   "source": [
    "## 2. metromadrid\n",
    "***\n",
    "Navigate to above mentioned metromadrid link you will find something like this\n",
    "<img src=\"../Tests/assets/test_m_1.png\" alt=\"Home\" />\n",
    "<h3 align=\"center\">Picture-4</h3>"
   ]
  },
  {
   "cell_type": "markdown",
   "id": "romantic-sleeping",
   "metadata": {},
   "source": [
    "Here you will add source station name and destination station name and press result"
   ]
  },
  {
   "cell_type": "markdown",
   "id": "theoretical-binding",
   "metadata": {},
   "source": [
    "You will get the following results\n",
    "<img src=\"../Tests/assets/test_m_2.png\" alt=\"Buildings in Street\" text=\"Picture 2\"/>\n",
    "<h3 align=\"center\">Picture-5</h3>"
   ]
  },
  {
   "cell_type": "markdown",
   "id": "fatal-extra",
   "metadata": {},
   "source": [
    "#### Your Goal\n",
    "***\n",
    "1. calculate the travel time from following list of stations to every other station in madrid and store it in mongo database"
   ]
  },
  {
   "cell_type": "markdown",
   "id": "developed-bubble",
   "metadata": {},
   "source": [
    "<img src=\"../Tests/assets/test_m_3_1.png\" alt=\"Name of stations\" text=\"use this link for easy scraping: https://ctmulti.metromadrid.es/ctmulti/rutasAA/index.html\" align=\"left\"/>"
   ]
  },
  {
   "cell_type": "markdown",
   "id": "radical-domestic",
   "metadata": {},
   "source": [
    "<h3 align=\"center\">Picture-6</h3>"
   ]
  },
  {
   "cell_type": "markdown",
   "id": "thermal-safety",
   "metadata": {},
   "source": [
    "<div class=\"alert alert-block alert-warning\">\n",
    "<div>In Picture-6 the digits represent metro lines and against each line their are 2 stations. First station is the starting station and second one is the ending station</div>\n",
    "<div>You need to construct your list of 10 stations from starting station of each line ignoring the 6th line since 6th line is a circular line and have no start and end point</div>\n",
    "<div>For example ['Pinar de Chamartín', 'Las Rosas', 'Villaverde Alto', ...]</div>\n",
    "</div>"
   ]
  },
  {
   "cell_type": "markdown",
   "id": "mexican-swift",
   "metadata": {},
   "source": [
    "<div class=\"alert alert-block alert-success\">\n",
    "You can get the list of all stations from the following link <a href=\"https://www.metromadrid.es/en/linea/linea-1\">Metro Stations List</a>\n",
    "</div>"
   ]
  },
  {
   "cell_type": "markdown",
   "id": "comparable-asthma",
   "metadata": {},
   "source": [
    "<div class=\"alert alert-block alert-warning\">\n",
    "Most of the stations will be repeating in different lines so you have to get all the stations in each metro line and create a list of unique stations\n",
    "</div>"
   ]
  },
  {
   "cell_type": "markdown",
   "id": "approximate-spanish",
   "metadata": {},
   "source": [
    "2. Answer the following Questions\n",
    "    1. Total number of metro stations in Madrid?\n",
    "    2. Which station is nearest to **Pinar de Chamartín** station in terms of time?\n",
    "    3. Which station is farthest to **Pinar de Chamartín** station in terms of time?\n",
    "    4. What is the average time from **Las Rosas** station to any other station?"
   ]
  },
  {
   "cell_type": "markdown",
   "id": "statewide-arizona",
   "metadata": {},
   "source": [
    "<div class=\"alert alert-block alert-danger\">\n",
    "<b>Alert:</b> Do not start the test before exploring both the websites and make assumptions wherever possible!\n",
    "</div>"
   ]
  },
  {
   "cell_type": "markdown",
   "id": "potential-success",
   "metadata": {},
   "source": [
    "<div class=\"alert alert-block alert-info\">\n",
    "<b>Bonus:</b> Explore this notebook for bonus points and more hints\n",
    "</div>"
   ]
  },
  {
   "cell_type": "markdown",
   "id": "responsible-irish",
   "metadata": {},
   "source": [
    "***\n",
    "***\n",
    "***"
   ]
  },
  {
   "cell_type": "markdown",
   "id": "electric-cassette",
   "metadata": {},
   "source": [
    "### Implementation"
   ]
  },
  {
   "cell_type": "code",
   "execution_count": null,
   "id": "stone-engagement",
   "metadata": {},
   "outputs": [],
   "source": [
    "# Your code starts here"
   ]
  },
  {
   "cell_type": "code",
   "execution_count": 1,
   "id": "minimal-brand",
   "metadata": {},
   "outputs": [],
   "source": [
    "# Firstly Im going to write a flow chart for the code and arrange my steps and then strt coding"
   ]
  },
  {
   "cell_type": "code",
   "execution_count": null,
   "id": "70a8a33e",
   "metadata": {},
   "outputs": [],
   "source": []
  }
 ],
 "metadata": {
  "kernelspec": {
   "display_name": "Python 3",
   "language": "python",
   "name": "python3"
  },
  "language_info": {
   "codemirror_mode": {
    "name": "ipython",
    "version": 3
   },
   "file_extension": ".py",
   "mimetype": "text/x-python",
   "name": "python",
   "nbconvert_exporter": "python",
   "pygments_lexer": "ipython3",
   "version": "3.8.8"
  }
 },
 "nbformat": 4,
 "nbformat_minor": 5
}
