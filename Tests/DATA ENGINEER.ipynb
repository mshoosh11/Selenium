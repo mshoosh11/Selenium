{
 "cells": [
  {
   "cell_type": "markdown",
   "id": "north-leather",
   "metadata": {},
   "source": [
    "<h2 align=\"center\">Data Engineer Evaluation</h2>"
   ]
  },
  {
   "cell_type": "markdown",
   "id": "complete-title",
   "metadata": {},
   "source": [
    "## Deliverables"
   ]
  },
  {
   "cell_type": "markdown",
   "id": "present-mailing",
   "metadata": {},
   "source": [
    "<div class=\"alert alert-block alert-info\">\n",
    "<div class=\"alert alert-block alert-danger\">1. You have received a repo containing a folder named <b>Tests</b>. Please keep the structure of this folder as it is and do not modify anything in assets folder. You can add your own folders inside Tests folder.</div>\n",
    "<div class=\"alert alert-block alert-warning\">2. You have to submit dumps of both mongodb collections for idealista and metromadrid. To do so create a folder named <b>dbdumps</b> inside Tests folder and put you db dumps in that folder.</div>\n",
    "<div class=\"alert alert-block alert-success\">3. Once done with the code, commit your final changes and inform us by email.</div>\n",
    "</div>"
   ]
  },
  {
   "cell_type": "markdown",
   "id": "perceived-preserve",
   "metadata": {},
   "source": [
    "***"
   ]
  },
  {
   "cell_type": "markdown",
   "id": "graphic-battle",
   "metadata": {},
   "source": [
    "## Problem Statement"
   ]
  },
  {
   "cell_type": "markdown",
   "id": "tropical-probe",
   "metadata": {},
   "source": [
    "You are going to scrape following websites\n",
    "1. idealista - https://www.idealista.com/maps/madrid-madrid/\n",
    "2. metromadrid - https://ctmulti.metromadrid.es/ctmulti/accesytevisor/index.html"
   ]
  },
  {
   "cell_type": "markdown",
   "id": "aware-zoning",
   "metadata": {},
   "source": [
    "<div class=\"alert alert-block alert-info\">\n",
    "Both sites are offered in <b>multiple languages</b>. You can choose the language you are comfortable with.\n",
    "</div>\n"
   ]
  },
  {
   "cell_type": "markdown",
   "id": "south-bosnia",
   "metadata": {},
   "source": [
    "## Approach(s)"
   ]
  },
  {
   "cell_type": "markdown",
   "id": "explicit-endorsement",
   "metadata": {},
   "source": [
    "## 1. idealista\n",
    "***\n",
    "Navigate to above mentioned idealista link you will find something like this\n",
    "<img src=\"../Tests/assets/test_i_1.png\" alt=\"Home\" text=\"Enjoy your Test ;)\" />\n",
    "<h3 align=\"center\">Picture-1</h3>"
   ]
  },
  {
   "cell_type": "markdown",
   "id": "second-analyst",
   "metadata": {},
   "source": [
    "You can see a list of streets in the left pane. If you click any of the street, you will be redirected to the following page\n",
    "<img src=\"../Tests/assets/test_i_2.png\" alt=\"Buildings in Street\" text=\"Hola\"/>\n",
    "<h3 align=\"center\">Picture-2</h3>"
   ]
  },
  {
   "cell_type": "markdown",
   "id": "given-legislature",
   "metadata": {},
   "source": [
    "As you can see in Picture-2 **0, 2, 4, 5, 7** are buildings in this particular streets."
   ]
  },
  {
   "cell_type": "markdown",
   "id": "scientific-regulation",
   "metadata": {},
   "source": [
    "When you click on any of these buildings you will find something like this\n",
    "<img src=\"../Tests/assets/test_i_3.png\" alt=\"picture 3\" text=\"Print smiley face at the end of each task for 10 bonus points\"/>\n",
    "<h3 align=\"center\">Picture-3</h3>"
   ]
  },
  {
   "cell_type": "markdown",
   "id": "hydraulic-wrestling",
   "metadata": {},
   "source": [
    "#### Your Goal\n",
    "***\n",
    "1. get first 150 streets\n",
    "2. In each street, get all buildings\n",
    "3. with in each building you will be scraping **chracteristics of the building** part in each building and saving it in mongodb collection."
   ]
  },
  {
   "cell_type": "markdown",
   "id": "breeding-applicant",
   "metadata": {},
   "source": [
    "<div class=\"alert alert-block alert-warning\">\n",
    "where in Picture-3 <b>id</b> is the first 14 digits of properties i.e. 0447208VK4704G and it will be unique against all properties. \n",
    "</div>"
   ]
  },
  {
   "cell_type": "markdown",
   "id": "minute-correspondence",
   "metadata": {},
   "source": [
    "4. Once you have all the buildings in 150 streets in a database you have to create indexes for more efficiency \n",
    "5. Query the database to find and display following results:\n",
    "    1. building id with maximum number of floors\n",
    "    2. Number of buildings containing lifts\n",
    "    3. Number of buildings containing storage\n",
    "    4. Number of buildings containing both lift and storage\n",
    "    5. Average floors in each building"
   ]
  },
  {
   "cell_type": "markdown",
   "id": "global-criminal",
   "metadata": {},
   "source": [
    "***\n",
    "***"
   ]
  },
  {
   "cell_type": "markdown",
   "id": "entertaining-liquid",
   "metadata": {},
   "source": [
    "## 2. metromadrid\n",
    "***\n",
    "Navigate to above mentioned metromadrid link you will find something like this\n",
    "<img src=\"../Tests/assets/test_m_1.png\" alt=\"Home\" />\n",
    "<h3 align=\"center\">Picture-4</h3>"
   ]
  },
  {
   "cell_type": "markdown",
   "id": "romantic-sleeping",
   "metadata": {},
   "source": [
    "Here you will add source station name and destination station name and press result"
   ]
  },
  {
   "cell_type": "markdown",
   "id": "theoretical-binding",
   "metadata": {},
   "source": [
    "You will get the following results\n",
    "<img src=\"../Tests/assets/test_m_2.png\" alt=\"Buildings in Street\" text=\"Picture 2\"/>\n",
    "<h3 align=\"center\">Picture-5</h3>"
   ]
  },
  {
   "cell_type": "markdown",
   "id": "fatal-extra",
   "metadata": {},
   "source": [
    "#### Your Goal\n",
    "***\n",
    "1. calculate the travel time from following list of stations to every other station in madrid and store it in mongo database"
   ]
  },
  {
   "cell_type": "markdown",
   "id": "developed-bubble",
   "metadata": {},
   "source": [
    "<img src=\"../Tests/assets/test_m_3_1.png\" alt=\"Name of stations\" text=\"use this link for easy scraping: https://ctmulti.metromadrid.es/ctmulti/rutasAA/index.html\" align=\"left\"/>"
   ]
  },
  {
   "cell_type": "markdown",
   "id": "radical-domestic",
   "metadata": {},
   "source": [
    "<h3 align=\"center\">Picture-6</h3>"
   ]
  },
  {
   "cell_type": "markdown",
   "id": "thermal-safety",
   "metadata": {},
   "source": [
    "<div class=\"alert alert-block alert-warning\">\n",
    "<div>In Picture-6 the digits represent metro lines and against each line their are 2 stations. First station is the starting station and second one is the ending station</div>\n",
    "<div>You need to construct your list of 10 stations from starting station of each line ignoring the 6th line since 6th line is a circular line and have no start and end point</div>\n",
    "<div>For example ['Pinar de Chamartín', 'Las Rosas', 'Villaverde Alto', ...]</div>\n",
    "</div>"
   ]
  },
  {
   "cell_type": "markdown",
   "id": "mexican-swift",
   "metadata": {},
   "source": [
    "<div class=\"alert alert-block alert-success\">\n",
    "You can get the list of all stations from the following link <a href=\"https://www.metromadrid.es/en/linea/linea-1\">Metro Stations List</a>\n",
    "</div>"
   ]
  },
  {
   "cell_type": "markdown",
   "id": "comparable-asthma",
   "metadata": {},
   "source": [
    "<div class=\"alert alert-block alert-warning\">\n",
    "Most of the stations will be repeating in different lines so you have to get all the stations in each metro line and create a list of unique stations\n",
    "</div>"
   ]
  },
  {
   "cell_type": "markdown",
   "id": "approximate-spanish",
   "metadata": {},
   "source": [
    "2. Answer the following Questions\n",
    "    1. Total number of metro stations in Madrid?\n",
    "    2. Which station is nearest to **Pinar de Chamartín** station in terms of time?\n",
    "    3. Which station is farthest to **Pinar de Chamartín** station in terms of time?\n",
    "    4. What is the average time from **Las Rosas** station to any other station?"
   ]
  },
  {
   "cell_type": "markdown",
   "id": "statewide-arizona",
   "metadata": {},
   "source": [
    "<div class=\"alert alert-block alert-danger\">\n",
    "<b>Alert:</b> Do not start the test before exploring both the websites and make assumptions wherever possible!\n",
    "</div>"
   ]
  },
  {
   "cell_type": "markdown",
   "id": "potential-success",
   "metadata": {},
   "source": [
    "<div class=\"alert alert-block alert-info\">\n",
    "<b>Bonus:</b> Explore this notebook for bonus points and more hints\n",
    "</div>"
   ]
  },
  {
   "cell_type": "markdown",
   "id": "responsible-irish",
   "metadata": {},
   "source": [
    "***\n",
    "***\n",
    "***"
   ]
  },
  {
   "cell_type": "markdown",
   "id": "electric-cassette",
   "metadata": {},
   "source": [
    "### Implementation"
   ]
  },
  {
   "cell_type": "code",
   "execution_count": 2,
   "id": "stone-engagement",
   "metadata": {},
   "outputs": [],
   "source": [
    "# Your code starts here"
   ]
  },
  {
   "cell_type": "markdown",
   "id": "d0591281",
   "metadata": {},
   "source": [
    "# Test 1"
   ]
  },
  {
   "cell_type": "markdown",
   "id": "ae2b633a",
   "metadata": {},
   "source": [
    "## Note : reCAPTCHA occurred and handeld manualy\n",
    "### The next steps :\n",
    "#### 1. Scrape the characteristics\n",
    "#### 2. Store the data on DataFrame to clean and analyze it\n",
    "#### 3. Store the data on MongoDB"
   ]
  },
  {
   "cell_type": "code",
   "execution_count": 144,
   "id": "135f1eb8",
   "metadata": {},
   "outputs": [
    {
     "name": "stderr",
     "output_type": "stream",
     "text": [
      "<ipython-input-144-48c7a3fce2ab>:14: DeprecationWarning: executable_path has been deprecated, please pass in a Service object\n",
      "  driver = webdriver.Chrome(PATH)\n"
     ]
    }
   ],
   "source": [
    "import time\n",
    "import pandas as pd\n",
    "from selenium import webdriver\n",
    "from selenium.webdriver.common.by import By\n",
    "from selenium.webdriver.support.ui import WebDriverWait\n",
    "from selenium.webdriver.support import expected_conditions as EC\n",
    "from selenium.common.exceptions import StaleElementReferenceException, NoSuchElementException,\\\n",
    "    StaleElementReferenceException, TimeoutException, ElementNotInteractableException, ElementClickInterceptedException\n",
    "ignored_exceptions=(StaleElementReferenceException, NoSuchElementException, StaleElementReferenceException,\\\n",
    "                    TimeoutException, ElementNotInteractableException, ElementClickInterceptedException)\n",
    "\n",
    "\n",
    "PATH = \"C:\\Program Files (x86)\\chromedriver.exe\"\n",
    "driver = webdriver.Chrome(PATH)\n",
    "driver.implicitly_wait(10)\n"
   ]
  },
  {
   "cell_type": "code",
   "execution_count": 119,
   "id": "c8039b75",
   "metadata": {
    "scrolled": false
   },
   "outputs": [],
   "source": [
    "# create list of dictionaries for the first two privinces contain the first 150 streets \n",
    "province = [\n",
    "    {\"name\": \"Ajalvir\", \"link\": \"https://www.idealista.com/en/maps/ajalvir-madrid/\", \"streets\": []},\n",
    "    {\"name\": \"Alameda del Valle\", \"link\": \"https://www.idealista.com/en/maps/alameda-del-valle-madrid/\", \"streets\": []}\n",
    "]\n",
    "\n",
    "\n",
    "for p in province:\n",
    "    time.sleep(3)\n",
    "    driver.get(p['link'])\n",
    "    # Streets Names\n",
    "    streets_names1 = driver.find_elements(By.XPATH,'//li[@class=\"mb-4\"]//span[1]')\n",
    "    streets_names2 = driver.find_elements(By.XPATH,'//li[@class=\"mb-4\"]//span[2]')\n",
    "    streets_names = []\n",
    "    for i in range(len(streets_names1)):\n",
    "        streets_names.append(streets_names1[i].text+\" \"+streets_names2[i].text)\n",
    "    # links to navigate to streets to scrape the buildings and store them\n",
    "    links = driver.find_elements(By.XPATH,'//li[@class=\"mb-4\"]//a')\n",
    "    links_list = []\n",
    "    for link in links: \n",
    "        links_list.append(link.get_attribute('href'))\n",
    "    for i in range(len(streets_names)):\n",
    "        p['streets'].append({\n",
    "            \"name\": streets_names[i],\n",
    "            \"link\": links_list[i],\n",
    "            \"buildings\": []\n",
    "    })"
   ]
  },
  {
   "cell_type": "code",
   "execution_count": 120,
   "id": "78ed8e3a",
   "metadata": {},
   "outputs": [],
   "source": [
    "for p in province:\n",
    "    time.sleep(3)\n",
    "    for street in p['streets']:\n",
    "        driver.get(street['link'])\n",
    "        time.sleep(2)\n",
    "        links = driver.find_elements(By.XPATH,'//*[@id=\"scroll__behavior\"]/div[2]/div[2]/div[1]/a')    \n",
    "        links_list = []\n",
    "        # Get the links that displayed on Picture 2\n",
    "        for link in links:\n",
    "            street['buildings'].append({\n",
    "            \"link\": link.get_attribute('href'),\n",
    "            \"Data\": []\n",
    "            })"
   ]
  },
  {
   "cell_type": "code",
   "execution_count": 175,
   "id": "2394480c",
   "metadata": {},
   "outputs": [],
   "source": [
    "for i in province:\n",
    "    for s in i['streets']:\n",
    "        for b in s['buildings']:\n",
    "            time.sleep(3)\n",
    "            driver.get(b['link'])\n",
    "            b_data = driver.find_elements(By.XPATH,'//*[@id=\"scroll__behavior\"]/div[2]/div[4]/div[1]/ol/li')\n",
    "            try :\n",
    "                b_id = driver.find_element(By.XPATH,'//*[@id=\"scroll__behavior\"]/div[2]/div[3]/div/div/section/ol/li[1]/p[2]')\n",
    "            except ignored_exceptions:\n",
    "                try :\n",
    "                    b_id = driver.find_element(By.XPATH,'//*[@id=\"scroll__behavior\"]/div[2]/div[2]/div/div/section/ol/li[1]/p[2]')\n",
    "                except ignored_exceptions:\n",
    "                    continue\n",
    "            res = {}\n",
    "            res[\"id\"] = b_id.text\n",
    "            for d in range(len(b_data)):\n",
    "                res[\"Data_\"+str(d)] = b_data[d].text\n",
    "            b['Data'].append(res)"
   ]
  },
  {
   "cell_type": "code",
   "execution_count": 177,
   "id": "07579c02",
   "metadata": {
    "scrolled": true
   },
   "outputs": [],
   "source": [
    "final_list = []\n",
    "for i in province:\n",
    "    for s in i['streets']:\n",
    "        for b in s['buildings']:\n",
    "            final_list+=b[\"Data\"]"
   ]
  },
  {
   "cell_type": "code",
   "execution_count": 179,
   "id": "e396e4f0",
   "metadata": {},
   "outputs": [
    {
     "data": {
      "text/html": [
       "<div>\n",
       "<style scoped>\n",
       "    .dataframe tbody tr th:only-of-type {\n",
       "        vertical-align: middle;\n",
       "    }\n",
       "\n",
       "    .dataframe tbody tr th {\n",
       "        vertical-align: top;\n",
       "    }\n",
       "\n",
       "    .dataframe thead th {\n",
       "        text-align: right;\n",
       "    }\n",
       "</style>\n",
       "<table border=\"1\" class=\"dataframe\">\n",
       "  <thead>\n",
       "    <tr style=\"text-align: right;\">\n",
       "      <th></th>\n",
       "      <th>id</th>\n",
       "      <th>Data_0</th>\n",
       "      <th>Data_1</th>\n",
       "      <th>Data_2</th>\n",
       "      <th>Data_3</th>\n",
       "      <th>Data_4</th>\n",
       "      <th>Data_5</th>\n",
       "      <th>Data_6</th>\n",
       "      <th>Data_7</th>\n",
       "      <th>Data_8</th>\n",
       "    </tr>\n",
       "  </thead>\n",
       "  <tbody>\n",
       "    <tr>\n",
       "      <th>0</th>\n",
       "      <td>9876903VK5897N0001QK</td>\n",
       "      <td>NaN</td>\n",
       "      <td>NaN</td>\n",
       "      <td>NaN</td>\n",
       "      <td>NaN</td>\n",
       "      <td>NaN</td>\n",
       "      <td>NaN</td>\n",
       "      <td>NaN</td>\n",
       "      <td>NaN</td>\n",
       "      <td>NaN</td>\n",
       "    </tr>\n",
       "    <tr>\n",
       "      <th>1</th>\n",
       "      <td>9876501VK5897N0014MT</td>\n",
       "      <td>Building with 3 floors</td>\n",
       "      <td>Built in 1997</td>\n",
       "      <td>2,567 m² de parcela</td>\n",
       "      <td>Garage</td>\n",
       "      <td>Garden</td>\n",
       "      <td>Normal construction quality</td>\n",
       "      <td>1 Home</td>\n",
       "      <td>Energy efficiency rating:\\n(&lt;303,7 kWh/m²/año)</td>\n",
       "      <td>NaN</td>\n",
       "    </tr>\n",
       "    <tr>\n",
       "      <th>2</th>\n",
       "      <td>9876902VK5897N0001GK</td>\n",
       "      <td>NaN</td>\n",
       "      <td>NaN</td>\n",
       "      <td>NaN</td>\n",
       "      <td>NaN</td>\n",
       "      <td>NaN</td>\n",
       "      <td>NaN</td>\n",
       "      <td>NaN</td>\n",
       "      <td>NaN</td>\n",
       "      <td>NaN</td>\n",
       "    </tr>\n",
       "    <tr>\n",
       "      <th>3</th>\n",
       "      <td>9876501VK5897N0013XR</td>\n",
       "      <td>Building with 3 floors</td>\n",
       "      <td>Built in 1997</td>\n",
       "      <td>2,567 m² de parcela</td>\n",
       "      <td>Garage</td>\n",
       "      <td>Garden</td>\n",
       "      <td>Normal construction quality</td>\n",
       "      <td>1 Home</td>\n",
       "      <td>Energy efficiency rating:\\n(&lt;303,7 kWh/m²/año)</td>\n",
       "      <td>NaN</td>\n",
       "    </tr>\n",
       "    <tr>\n",
       "      <th>4</th>\n",
       "      <td>9876904VK5897N0001PK</td>\n",
       "      <td>NaN</td>\n",
       "      <td>NaN</td>\n",
       "      <td>NaN</td>\n",
       "      <td>NaN</td>\n",
       "      <td>NaN</td>\n",
       "      <td>NaN</td>\n",
       "      <td>NaN</td>\n",
       "      <td>NaN</td>\n",
       "      <td>NaN</td>\n",
       "    </tr>\n",
       "    <tr>\n",
       "      <th>...</th>\n",
       "      <td>...</td>\n",
       "      <td>...</td>\n",
       "      <td>...</td>\n",
       "      <td>...</td>\n",
       "      <td>...</td>\n",
       "      <td>...</td>\n",
       "      <td>...</td>\n",
       "      <td>...</td>\n",
       "      <td>...</td>\n",
       "      <td>...</td>\n",
       "    </tr>\n",
       "    <tr>\n",
       "      <th>646</th>\n",
       "      <td>9236741VK5893N0001BL</td>\n",
       "      <td>NaN</td>\n",
       "      <td>NaN</td>\n",
       "      <td>NaN</td>\n",
       "      <td>NaN</td>\n",
       "      <td>NaN</td>\n",
       "      <td>NaN</td>\n",
       "      <td>NaN</td>\n",
       "      <td>NaN</td>\n",
       "      <td>NaN</td>\n",
       "    </tr>\n",
       "    <tr>\n",
       "      <th>647</th>\n",
       "      <td>9236742VK5893N0001YL</td>\n",
       "      <td>NaN</td>\n",
       "      <td>NaN</td>\n",
       "      <td>NaN</td>\n",
       "      <td>NaN</td>\n",
       "      <td>NaN</td>\n",
       "      <td>NaN</td>\n",
       "      <td>NaN</td>\n",
       "      <td>NaN</td>\n",
       "      <td>NaN</td>\n",
       "    </tr>\n",
       "    <tr>\n",
       "      <th>648</th>\n",
       "      <td>9236743VK5893N0001GL</td>\n",
       "      <td>NaN</td>\n",
       "      <td>NaN</td>\n",
       "      <td>NaN</td>\n",
       "      <td>NaN</td>\n",
       "      <td>NaN</td>\n",
       "      <td>NaN</td>\n",
       "      <td>NaN</td>\n",
       "      <td>NaN</td>\n",
       "      <td>NaN</td>\n",
       "    </tr>\n",
       "    <tr>\n",
       "      <th>649</th>\n",
       "      <td>9236744VK5893N0001QL</td>\n",
       "      <td>NaN</td>\n",
       "      <td>NaN</td>\n",
       "      <td>NaN</td>\n",
       "      <td>NaN</td>\n",
       "      <td>NaN</td>\n",
       "      <td>NaN</td>\n",
       "      <td>NaN</td>\n",
       "      <td>NaN</td>\n",
       "      <td>NaN</td>\n",
       "    </tr>\n",
       "    <tr>\n",
       "      <th>650</th>\n",
       "      <td>9236745VK5893N0001PL</td>\n",
       "      <td>NaN</td>\n",
       "      <td>NaN</td>\n",
       "      <td>NaN</td>\n",
       "      <td>NaN</td>\n",
       "      <td>NaN</td>\n",
       "      <td>NaN</td>\n",
       "      <td>NaN</td>\n",
       "      <td>NaN</td>\n",
       "      <td>NaN</td>\n",
       "    </tr>\n",
       "  </tbody>\n",
       "</table>\n",
       "<p>651 rows × 10 columns</p>\n",
       "</div>"
      ],
      "text/plain": [
       "                       id                  Data_0         Data_1  \\\n",
       "0    9876903VK5897N0001QK                     NaN            NaN   \n",
       "1    9876501VK5897N0014MT  Building with 3 floors  Built in 1997   \n",
       "2    9876902VK5897N0001GK                     NaN            NaN   \n",
       "3    9876501VK5897N0013XR  Building with 3 floors  Built in 1997   \n",
       "4    9876904VK5897N0001PK                     NaN            NaN   \n",
       "..                    ...                     ...            ...   \n",
       "646  9236741VK5893N0001BL                     NaN            NaN   \n",
       "647  9236742VK5893N0001YL                     NaN            NaN   \n",
       "648  9236743VK5893N0001GL                     NaN            NaN   \n",
       "649  9236744VK5893N0001QL                     NaN            NaN   \n",
       "650  9236745VK5893N0001PL                     NaN            NaN   \n",
       "\n",
       "                  Data_2  Data_3  Data_4                       Data_5  Data_6  \\\n",
       "0                    NaN     NaN     NaN                          NaN     NaN   \n",
       "1    2,567 m² de parcela  Garage  Garden  Normal construction quality  1 Home   \n",
       "2                    NaN     NaN     NaN                          NaN     NaN   \n",
       "3    2,567 m² de parcela  Garage  Garden  Normal construction quality  1 Home   \n",
       "4                    NaN     NaN     NaN                          NaN     NaN   \n",
       "..                   ...     ...     ...                          ...     ...   \n",
       "646                  NaN     NaN     NaN                          NaN     NaN   \n",
       "647                  NaN     NaN     NaN                          NaN     NaN   \n",
       "648                  NaN     NaN     NaN                          NaN     NaN   \n",
       "649                  NaN     NaN     NaN                          NaN     NaN   \n",
       "650                  NaN     NaN     NaN                          NaN     NaN   \n",
       "\n",
       "                                             Data_7 Data_8  \n",
       "0                                               NaN    NaN  \n",
       "1    Energy efficiency rating:\\n(<303,7 kWh/m²/año)    NaN  \n",
       "2                                               NaN    NaN  \n",
       "3    Energy efficiency rating:\\n(<303,7 kWh/m²/año)    NaN  \n",
       "4                                               NaN    NaN  \n",
       "..                                              ...    ...  \n",
       "646                                             NaN    NaN  \n",
       "647                                             NaN    NaN  \n",
       "648                                             NaN    NaN  \n",
       "649                                             NaN    NaN  \n",
       "650                                             NaN    NaN  \n",
       "\n",
       "[651 rows x 10 columns]"
      ]
     },
     "execution_count": 179,
     "metadata": {},
     "output_type": "execute_result"
    }
   ],
   "source": [
    "df = pd.DataFrame(final_list)\n",
    "df"
   ]
  },
  {
   "cell_type": "code",
   "execution_count": 192,
   "id": "cd666f78",
   "metadata": {},
   "outputs": [
    {
     "data": {
      "text/html": [
       "<div>\n",
       "<style scoped>\n",
       "    .dataframe tbody tr th:only-of-type {\n",
       "        vertical-align: middle;\n",
       "    }\n",
       "\n",
       "    .dataframe tbody tr th {\n",
       "        vertical-align: top;\n",
       "    }\n",
       "\n",
       "    .dataframe thead th {\n",
       "        text-align: right;\n",
       "    }\n",
       "</style>\n",
       "<table border=\"1\" class=\"dataframe\">\n",
       "  <thead>\n",
       "    <tr style=\"text-align: right;\">\n",
       "      <th></th>\n",
       "      <th>id</th>\n",
       "      <th>Data_0</th>\n",
       "      <th>Data_1</th>\n",
       "      <th>Data_2</th>\n",
       "      <th>Data_3</th>\n",
       "      <th>Data_4</th>\n",
       "      <th>Data_5</th>\n",
       "      <th>Data_6</th>\n",
       "      <th>Data_7</th>\n",
       "      <th>Data_8</th>\n",
       "    </tr>\n",
       "  </thead>\n",
       "  <tbody>\n",
       "    <tr>\n",
       "      <th>0</th>\n",
       "      <td>9876903VK5897N0</td>\n",
       "      <td>NaN</td>\n",
       "      <td>NaN</td>\n",
       "      <td>NaN</td>\n",
       "      <td>NaN</td>\n",
       "      <td>NaN</td>\n",
       "      <td>NaN</td>\n",
       "      <td>NaN</td>\n",
       "      <td>NaN</td>\n",
       "      <td>NaN</td>\n",
       "    </tr>\n",
       "    <tr>\n",
       "      <th>1</th>\n",
       "      <td>9876501VK5897N0</td>\n",
       "      <td>Building with 3 floors</td>\n",
       "      <td>Built in 1997</td>\n",
       "      <td>2,567 m² de parcela</td>\n",
       "      <td>Garage</td>\n",
       "      <td>Garden</td>\n",
       "      <td>Normal construction quality</td>\n",
       "      <td>1 Home</td>\n",
       "      <td>Energy efficiency rating:\\n(&lt;303,7 kWh/m²/año)</td>\n",
       "      <td>NaN</td>\n",
       "    </tr>\n",
       "    <tr>\n",
       "      <th>2</th>\n",
       "      <td>9876902VK5897N0</td>\n",
       "      <td>NaN</td>\n",
       "      <td>NaN</td>\n",
       "      <td>NaN</td>\n",
       "      <td>NaN</td>\n",
       "      <td>NaN</td>\n",
       "      <td>NaN</td>\n",
       "      <td>NaN</td>\n",
       "      <td>NaN</td>\n",
       "      <td>NaN</td>\n",
       "    </tr>\n",
       "    <tr>\n",
       "      <th>3</th>\n",
       "      <td>9876501VK5897N0</td>\n",
       "      <td>Building with 3 floors</td>\n",
       "      <td>Built in 1997</td>\n",
       "      <td>2,567 m² de parcela</td>\n",
       "      <td>Garage</td>\n",
       "      <td>Garden</td>\n",
       "      <td>Normal construction quality</td>\n",
       "      <td>1 Home</td>\n",
       "      <td>Energy efficiency rating:\\n(&lt;303,7 kWh/m²/año)</td>\n",
       "      <td>NaN</td>\n",
       "    </tr>\n",
       "    <tr>\n",
       "      <th>4</th>\n",
       "      <td>9876904VK5897N0</td>\n",
       "      <td>NaN</td>\n",
       "      <td>NaN</td>\n",
       "      <td>NaN</td>\n",
       "      <td>NaN</td>\n",
       "      <td>NaN</td>\n",
       "      <td>NaN</td>\n",
       "      <td>NaN</td>\n",
       "      <td>NaN</td>\n",
       "      <td>NaN</td>\n",
       "    </tr>\n",
       "    <tr>\n",
       "      <th>...</th>\n",
       "      <td>...</td>\n",
       "      <td>...</td>\n",
       "      <td>...</td>\n",
       "      <td>...</td>\n",
       "      <td>...</td>\n",
       "      <td>...</td>\n",
       "      <td>...</td>\n",
       "      <td>...</td>\n",
       "      <td>...</td>\n",
       "      <td>...</td>\n",
       "    </tr>\n",
       "    <tr>\n",
       "      <th>646</th>\n",
       "      <td>9236741VK5893N0</td>\n",
       "      <td>NaN</td>\n",
       "      <td>NaN</td>\n",
       "      <td>NaN</td>\n",
       "      <td>NaN</td>\n",
       "      <td>NaN</td>\n",
       "      <td>NaN</td>\n",
       "      <td>NaN</td>\n",
       "      <td>NaN</td>\n",
       "      <td>NaN</td>\n",
       "    </tr>\n",
       "    <tr>\n",
       "      <th>647</th>\n",
       "      <td>9236742VK5893N0</td>\n",
       "      <td>NaN</td>\n",
       "      <td>NaN</td>\n",
       "      <td>NaN</td>\n",
       "      <td>NaN</td>\n",
       "      <td>NaN</td>\n",
       "      <td>NaN</td>\n",
       "      <td>NaN</td>\n",
       "      <td>NaN</td>\n",
       "      <td>NaN</td>\n",
       "    </tr>\n",
       "    <tr>\n",
       "      <th>648</th>\n",
       "      <td>9236743VK5893N0</td>\n",
       "      <td>NaN</td>\n",
       "      <td>NaN</td>\n",
       "      <td>NaN</td>\n",
       "      <td>NaN</td>\n",
       "      <td>NaN</td>\n",
       "      <td>NaN</td>\n",
       "      <td>NaN</td>\n",
       "      <td>NaN</td>\n",
       "      <td>NaN</td>\n",
       "    </tr>\n",
       "    <tr>\n",
       "      <th>649</th>\n",
       "      <td>9236744VK5893N0</td>\n",
       "      <td>NaN</td>\n",
       "      <td>NaN</td>\n",
       "      <td>NaN</td>\n",
       "      <td>NaN</td>\n",
       "      <td>NaN</td>\n",
       "      <td>NaN</td>\n",
       "      <td>NaN</td>\n",
       "      <td>NaN</td>\n",
       "      <td>NaN</td>\n",
       "    </tr>\n",
       "    <tr>\n",
       "      <th>650</th>\n",
       "      <td>9236745VK5893N0</td>\n",
       "      <td>NaN</td>\n",
       "      <td>NaN</td>\n",
       "      <td>NaN</td>\n",
       "      <td>NaN</td>\n",
       "      <td>NaN</td>\n",
       "      <td>NaN</td>\n",
       "      <td>NaN</td>\n",
       "      <td>NaN</td>\n",
       "      <td>NaN</td>\n",
       "    </tr>\n",
       "  </tbody>\n",
       "</table>\n",
       "<p>651 rows × 10 columns</p>\n",
       "</div>"
      ],
      "text/plain": [
       "                  id                  Data_0         Data_1  \\\n",
       "0    9876903VK5897N0                     NaN            NaN   \n",
       "1    9876501VK5897N0  Building with 3 floors  Built in 1997   \n",
       "2    9876902VK5897N0                     NaN            NaN   \n",
       "3    9876501VK5897N0  Building with 3 floors  Built in 1997   \n",
       "4    9876904VK5897N0                     NaN            NaN   \n",
       "..               ...                     ...            ...   \n",
       "646  9236741VK5893N0                     NaN            NaN   \n",
       "647  9236742VK5893N0                     NaN            NaN   \n",
       "648  9236743VK5893N0                     NaN            NaN   \n",
       "649  9236744VK5893N0                     NaN            NaN   \n",
       "650  9236745VK5893N0                     NaN            NaN   \n",
       "\n",
       "                  Data_2  Data_3  Data_4                       Data_5  Data_6  \\\n",
       "0                    NaN     NaN     NaN                          NaN     NaN   \n",
       "1    2,567 m² de parcela  Garage  Garden  Normal construction quality  1 Home   \n",
       "2                    NaN     NaN     NaN                          NaN     NaN   \n",
       "3    2,567 m² de parcela  Garage  Garden  Normal construction quality  1 Home   \n",
       "4                    NaN     NaN     NaN                          NaN     NaN   \n",
       "..                   ...     ...     ...                          ...     ...   \n",
       "646                  NaN     NaN     NaN                          NaN     NaN   \n",
       "647                  NaN     NaN     NaN                          NaN     NaN   \n",
       "648                  NaN     NaN     NaN                          NaN     NaN   \n",
       "649                  NaN     NaN     NaN                          NaN     NaN   \n",
       "650                  NaN     NaN     NaN                          NaN     NaN   \n",
       "\n",
       "                                             Data_7 Data_8  \n",
       "0                                               NaN    NaN  \n",
       "1    Energy efficiency rating:\\n(<303,7 kWh/m²/año)    NaN  \n",
       "2                                               NaN    NaN  \n",
       "3    Energy efficiency rating:\\n(<303,7 kWh/m²/año)    NaN  \n",
       "4                                               NaN    NaN  \n",
       "..                                              ...    ...  \n",
       "646                                             NaN    NaN  \n",
       "647                                             NaN    NaN  \n",
       "648                                             NaN    NaN  \n",
       "649                                             NaN    NaN  \n",
       "650                                             NaN    NaN  \n",
       "\n",
       "[651 rows x 10 columns]"
      ]
     },
     "execution_count": 192,
     "metadata": {},
     "output_type": "execute_result"
    }
   ],
   "source": [
    "df['id'] = df['id'].str[0:15]\n",
    "df"
   ]
  },
  {
   "cell_type": "code",
   "execution_count": 193,
   "id": "1435a61b",
   "metadata": {},
   "outputs": [
    {
     "data": {
      "text/plain": [
       "<pymongo.results.InsertManyResult at 0x29904f7f500>"
      ]
     },
     "execution_count": 193,
     "metadata": {},
     "output_type": "execute_result"
    }
   ],
   "source": [
    "import pandas as pd\n",
    "import pymongo\n",
    "import json\n",
    "\n",
    "client = pymongo.MongoClient(\"mongodb://localhost:27017\")\n",
    "Buildings_data = df.to_dict(orient = \"records\")\n",
    "db = client[\"Madrid_Buildings\"]\n",
    "db.Iris.insert_many(Buildings_data)"
   ]
  },
  {
   "cell_type": "markdown",
   "id": "bab61cb4",
   "metadata": {},
   "source": [
    "<img src=\"../Tests/assets/Capture5.PNG\" alt=\"Home\" />\n",
    "<h3 align=\"center\">Picture-4</h3>"
   ]
  },
  {
   "cell_type": "markdown",
   "id": "0a5f2e9c",
   "metadata": {},
   "source": [
    "# Second Test"
   ]
  },
  {
   "cell_type": "markdown",
   "id": "9fb6d2a7",
   "metadata": {},
   "source": [
    "### Scrape all metro lines and thier stattions"
   ]
  },
  {
   "cell_type": "code",
   "execution_count": 276,
   "id": "ff95068d",
   "metadata": {},
   "outputs": [
    {
     "name": "stderr",
     "output_type": "stream",
     "text": [
      "<ipython-input-276-e9c4ab7d32e4>:10: DeprecationWarning: executable_path has been deprecated, please pass in a Service object\n",
      "  driver = webdriver.Chrome(PATH)\n"
     ]
    }
   ],
   "source": [
    "# append list of dictionares for the metros\n",
    "driver.get(\"https://www.metromadrid.es/en\")\n",
    "\n",
    "stations = []\n",
    "\n",
    "lines_list = []\n",
    "count=1\n",
    "\n",
    "links = driver.find_elements(By.XPATH,'//li[@class=\"list__lineas__element\"]//a')\n",
    "\n",
    "for link in links:\n",
    "    time.sleep(3)\n",
    "    stations.append({\n",
    "        \"line\": count,\n",
    "        \"link\": link.get_attribute('href'),\n",
    "        \"stations\": []\n",
    "    })\n",
    "    count+=1\n",
    "\n",
    "for station in stations:\n",
    "    time.sleep(3)\n",
    "    driver.get(station[\"link\"])\n",
    "    stations_names = driver.find_elements(By.XPATH,'//a[@class=\"list-line__btn accordion-title\"]/p')\n",
    "    for station_name in stations_names:\n",
    "        if station_name.text + \" Station\" in station[\"stations\"]:\n",
    "            pass\n",
    "        else:\n",
    "            station[\"stations\"].append(station_name.text + \" Station\")"
   ]
  },
  {
   "cell_type": "markdown",
   "id": "8a63dec2",
   "metadata": {},
   "source": [
    "## Q1 : Total number of the stations is 276"
   ]
  },
  {
   "cell_type": "code",
   "execution_count": 306,
   "id": "3ac1a15d",
   "metadata": {},
   "outputs": [
    {
     "name": "stdout",
     "output_type": "stream",
     "text": [
      "276\n"
     ]
    }
   ],
   "source": [
    "df = pd.DataFrame(stations)\n",
    "stations_list = []\n",
    "for i in range(len(df)):\n",
    "    station = df[\"stations\"][i]\n",
    "    for y in range(len(station)):\n",
    "        station_ = station[y]\n",
    "        if station_ in stations_list:\n",
    "            pass\n",
    "        else :\n",
    "            stations_list.append(station_)\n",
    "print(len(stations_list))"
   ]
  },
  {
   "cell_type": "markdown",
   "id": "1351c82f",
   "metadata": {},
   "source": [
    "### Travel time to Pinar de Chamartín"
   ]
  },
  {
   "cell_type": "code",
   "execution_count": 280,
   "id": "6dded3b8",
   "metadata": {
    "scrolled": false
   },
   "outputs": [
    {
     "name": "stderr",
     "output_type": "stream",
     "text": [
      "<ipython-input-280-0c72caa24a0a>:11: DeprecationWarning: executable_path has been deprecated, please pass in a Service object\n",
      "  driver = webdriver.Chrome(PATH)\n"
     ]
    }
   ],
   "source": [
    "driver.get(\"https://ctmulti.metromadrid.es/ctmulti/accesytevisor/index.html\")\n",
    "time.sleep(60)\n",
    "# The starting Station\n",
    "start = \"Pinar de Chamartín Station\"\n",
    "travel_times_to_Pinar = []\n",
    "time.sleep(5)\n",
    "start_station = driver.find_element(By.XPATH,'(//input[@class=\"searchInput\"])[2]')\n",
    "time.sleep(5)\n",
    "start_station.send_keys(start)\n",
    "time.sleep(5)\n",
    "start_station.send_keys(Keys.ENTER)\n",
    "time.sleep(5)\n",
    "ignored_exceptions=(NoSuchElementException,StaleElementReferenceException,ElementNotInteractableException,TimeoutException)\n",
    "end_station = WebDriverWait(driver, 15,ignored_exceptions=ignored_exceptions)\\\n",
    "                    .until(EC.presence_of_element_located((By.XPATH, '(//input[@class=\"searchInput\"])[3]')))\n",
    "# Looping inside the stations list to difine the destination\n",
    "for station in stations_list:\n",
    "    time.sleep(3)\n",
    "    if start == station:\n",
    "        pass\n",
    "    else :\n",
    "        end_station.send_keys(station)\n",
    "        sug = WebDriverWait(driver, 50,ignored_exceptions=ignored_exceptions)\\\n",
    "                    .until(EC.element_to_be_clickable((By.XPATH, '(//li[@data-index=\"0\"]//strong)[2][1][1]')))\n",
    "        sug.click()\n",
    "        travel_time = WebDriverWait(driver, 50,ignored_exceptions=ignored_exceptions)\\\n",
    "                    .until(EC.presence_of_element_located((By.XPATH, '//div[@class=\"esriImpedanceCost\"]')))\n",
    "        time.sleep(3)\n",
    "        travel_times_to_Pinar.append({\n",
    "            \"Start\" : \"Pinar de Chamartín\",\n",
    "            \"End\": station,\n",
    "            \"Travel Time\": travel_time.text\n",
    "        })\n",
    "        end_station.clear()"
   ]
  },
  {
   "cell_type": "code",
   "execution_count": 353,
   "id": "59cecc60",
   "metadata": {},
   "outputs": [],
   "source": [
    "# Converting the list of dicts to DataFrame to analyize the data\n",
    "Time_to_Pinar_DF = pd.DataFrame(travel_times_to_Pinar)\n",
    "# Exstracting the Travel time in numerical values\n",
    "for i in range(len(Time_to_Pinar_DF)):\n",
    "    Time_to_Pinar_DF['Travel Time'][i] = (int(Time_to_Pinar_DF['Travel Time'][i][0])*60)+(int(Time_to_Pinar_DF['Travel Time'][i][4:6]))"
   ]
  },
  {
   "cell_type": "markdown",
   "id": "7bbb65c0",
   "metadata": {},
   "source": [
    "## nearest and farthest stations to Pinar de Chamartín\n",
    "### Nearest is Chamartín Station : with 3 min travel time\n",
    "### Farthest is Puerta de Boadilla Station : with 81 mins travel time"
   ]
  },
  {
   "cell_type": "code",
   "execution_count": 358,
   "id": "5f29930d",
   "metadata": {},
   "outputs": [
    {
     "name": "stdout",
     "output_type": "stream",
     "text": [
      "                  Start                         End Travel Time  \\\n",
      "274  Pinar de Chamartín  Puerta de Boadilla Station          81   \n",
      "\n",
      "                          _id  \n",
      "274  61c5e905b9d2e4dc1232d0d4  \n",
      "                  Start                         End Travel Time  \\\n",
      "274  Pinar de Chamartín  Puerta de Boadilla Station          81   \n",
      "\n",
      "                          _id  \n",
      "274  61c5e905b9d2e4dc1232d0d4  \n"
     ]
    }
   ],
   "source": [
    "print(Time_to_Pinar_DF[Time_to_Pinar_DF[\"Travel Time\"] == Time_to_Pinar_DF[\"Travel Time\"].max()])\n",
    "print(Time_to_Pinar_DF[Time_to_Pinar_DF[\"Travel Time\"] == Time_to_Pinar_DF[\"Travel Time\"].max()])"
   ]
  },
  {
   "cell_type": "markdown",
   "id": "98c38370",
   "metadata": {},
   "source": [
    "### Save the data in mongodb"
   ]
  },
  {
   "cell_type": "code",
   "execution_count": 357,
   "id": "e686bfaf",
   "metadata": {},
   "outputs": [
    {
     "data": {
      "text/plain": [
       "<pymongo.results.InsertManyResult at 0x2294647db00>"
      ]
     },
     "execution_count": 357,
     "metadata": {},
     "output_type": "execute_result"
    }
   ],
   "source": [
    "import pandas as pd\n",
    "import pymongo\n",
    "import json\n",
    "\n",
    "client = pymongo.MongoClient(\"mongodb://localhost:27017\")\n",
    "data = Time_to_Pinar_DF.to_dict(orient = \"records\")\n",
    "db = client[\"Pinar_de_Chamartín\"]\n",
    "db.Iris.insert_many(data)"
   ]
  },
  {
   "cell_type": "markdown",
   "id": "8ef1b345",
   "metadata": {},
   "source": [
    "<img src=\"../Tests/assets/Capture.PNG\" alt=\"Home\" />\n",
    "<h3 align=\"center\">Picture-4</h3>"
   ]
  },
  {
   "cell_type": "markdown",
   "id": "353a5877",
   "metadata": {},
   "source": [
    "### Travel Time to Las Rosas"
   ]
  },
  {
   "cell_type": "code",
   "execution_count": 310,
   "id": "7565fb50",
   "metadata": {},
   "outputs": [
    {
     "name": "stderr",
     "output_type": "stream",
     "text": [
      "<ipython-input-310-48aa9fe77ae2>:11: DeprecationWarning: executable_path has been deprecated, please pass in a Service object\n",
      "  driver = webdriver.Chrome(PATH)\n"
     ]
    }
   ],
   "source": [
    "driver.get(\"https://ctmulti.metromadrid.es/ctmulti/accesytevisor/index.html\")\n",
    "time.sleep(60)\n",
    "# The starting Station\n",
    "start = \"Las Rosas Station\"\n",
    "travel_times_to_Las_Rosas = []\n",
    "time.sleep(5)\n",
    "start_station = driver.find_element(By.XPATH,'(//input[@class=\"searchInput\"])[2]')\n",
    "time.sleep(5)\n",
    "start_station.send_keys(start)\n",
    "time.sleep(5)\n",
    "start_station.send_keys(Keys.ENTER)\n",
    "time.sleep(5)\n",
    "ignored_exceptions=(NoSuchElementException,StaleElementReferenceException,ElementNotInteractableException,TimeoutException)\n",
    "end_station = WebDriverWait(driver, 15,ignored_exceptions=ignored_exceptions)\\\n",
    "                    .until(EC.presence_of_element_located((By.XPATH, '(//input[@class=\"searchInput\"])[3]')))\n",
    "# Looping inside the stations list to difine the destination\n",
    "for station in stations_list:\n",
    "    time.sleep(3)\n",
    "    if start == station:\n",
    "        pass\n",
    "    else :\n",
    "        end_station.send_keys(station)\n",
    "        sug = WebDriverWait(driver, 50,ignored_exceptions=ignored_exceptions)\\\n",
    "                    .until(EC.element_to_be_clickable((By.XPATH, '(//li[@data-index=\"0\"]//strong)[2][1][1]')))\n",
    "        sug.click()\n",
    "        travel_time = WebDriverWait(driver, 50,ignored_exceptions=ignored_exceptions)\\\n",
    "                    .until(EC.presence_of_element_located((By.XPATH, '//div[@class=\"esriImpedanceCost\"]')))\n",
    "        time.sleep(3)\n",
    "        travel_times_to_Las_Rosas.append({\n",
    "            \"Start\" : \"Las Rosas\",\n",
    "            \"End\": station,\n",
    "            \"Travel Time\": travel_time.text\n",
    "        })\n",
    "        end_station.clear()"
   ]
  },
  {
   "cell_type": "code",
   "execution_count": 333,
   "id": "6b7638e0",
   "metadata": {},
   "outputs": [
    {
     "data": {
      "text/html": [
       "<div>\n",
       "<style scoped>\n",
       "    .dataframe tbody tr th:only-of-type {\n",
       "        vertical-align: middle;\n",
       "    }\n",
       "\n",
       "    .dataframe tbody tr th {\n",
       "        vertical-align: top;\n",
       "    }\n",
       "\n",
       "    .dataframe thead th {\n",
       "        text-align: right;\n",
       "    }\n",
       "</style>\n",
       "<table border=\"1\" class=\"dataframe\">\n",
       "  <thead>\n",
       "    <tr style=\"text-align: right;\">\n",
       "      <th></th>\n",
       "      <th>Start</th>\n",
       "      <th>End</th>\n",
       "      <th>Travel Time</th>\n",
       "    </tr>\n",
       "  </thead>\n",
       "  <tbody>\n",
       "    <tr>\n",
       "      <th>0</th>\n",
       "      <td>Las Rosas</td>\n",
       "      <td>Pinar de Chamartín Station</td>\n",
       "      <td>44</td>\n",
       "    </tr>\n",
       "    <tr>\n",
       "      <th>1</th>\n",
       "      <td>Las Rosas</td>\n",
       "      <td>Bambú Station</td>\n",
       "      <td>41</td>\n",
       "    </tr>\n",
       "    <tr>\n",
       "      <th>2</th>\n",
       "      <td>Las Rosas</td>\n",
       "      <td>Chamartín Station</td>\n",
       "      <td>44</td>\n",
       "    </tr>\n",
       "    <tr>\n",
       "      <th>3</th>\n",
       "      <td>Las Rosas</td>\n",
       "      <td>Plaza de Castilla Station</td>\n",
       "      <td>36</td>\n",
       "    </tr>\n",
       "    <tr>\n",
       "      <th>4</th>\n",
       "      <td>Las Rosas</td>\n",
       "      <td>Valdeacederas Station</td>\n",
       "      <td>38</td>\n",
       "    </tr>\n",
       "    <tr>\n",
       "      <th>...</th>\n",
       "      <td>...</td>\n",
       "      <td>...</td>\n",
       "      <td>...</td>\n",
       "    </tr>\n",
       "    <tr>\n",
       "      <th>270</th>\n",
       "      <td>Las Rosas</td>\n",
       "      <td>Boadilla Centro Station</td>\n",
       "      <td>82</td>\n",
       "    </tr>\n",
       "    <tr>\n",
       "      <th>271</th>\n",
       "      <td>Las Rosas</td>\n",
       "      <td>Nuevo Mundo Station</td>\n",
       "      <td>84</td>\n",
       "    </tr>\n",
       "    <tr>\n",
       "      <th>272</th>\n",
       "      <td>Las Rosas</td>\n",
       "      <td>Siglo XXI Station</td>\n",
       "      <td>86</td>\n",
       "    </tr>\n",
       "    <tr>\n",
       "      <th>273</th>\n",
       "      <td>Las Rosas</td>\n",
       "      <td>Infante Don Luís Station</td>\n",
       "      <td>88</td>\n",
       "    </tr>\n",
       "    <tr>\n",
       "      <th>274</th>\n",
       "      <td>Las Rosas</td>\n",
       "      <td>Puerta de Boadilla Station</td>\n",
       "      <td>90</td>\n",
       "    </tr>\n",
       "  </tbody>\n",
       "</table>\n",
       "<p>275 rows × 3 columns</p>\n",
       "</div>"
      ],
      "text/plain": [
       "         Start                         End Travel Time\n",
       "0    Las Rosas  Pinar de Chamartín Station          44\n",
       "1    Las Rosas               Bambú Station          41\n",
       "2    Las Rosas           Chamartín Station          44\n",
       "3    Las Rosas   Plaza de Castilla Station          36\n",
       "4    Las Rosas       Valdeacederas Station          38\n",
       "..         ...                         ...         ...\n",
       "270  Las Rosas     Boadilla Centro Station          82\n",
       "271  Las Rosas         Nuevo Mundo Station          84\n",
       "272  Las Rosas           Siglo XXI Station          86\n",
       "273  Las Rosas    Infante Don Luís Station          88\n",
       "274  Las Rosas  Puerta de Boadilla Station          90\n",
       "\n",
       "[275 rows x 3 columns]"
      ]
     },
     "execution_count": 333,
     "metadata": {},
     "output_type": "execute_result"
    }
   ],
   "source": [
    "# Converting the list of dicts to DataFrame to analyize the data\n",
    "Time_to_Las_Rosas_DF = pd.DataFrame(travel_times_to_Las_Rosas)\n",
    "Time_to_Las_Rosas_DF\n",
    "# Exstracting the Travel time in numerical values\n",
    "for i in range(len(Time_to_Las_Rosas_DF)):\n",
    "    Time_to_Las_Rosas_DF['Travel Time'][i] = str(Time_to_Las_Rosas_DF['Travel Time'][i])\n",
    "    try:\n",
    "        Time_to_Las_Rosas_DF['Travel Time'][i] = (int(Time_to_Las_Rosas_DF['Travel Time'][i][0])*60)+(int(Time_to_Las_Rosas_DF['Travel Time'][i][4:6]))\n",
    "    except (ValueError,TypeError ):\n",
    "        Time_to_Las_Rosas_DF['Travel Time'][i] = (int(Time_to_Las_Rosas_DF['Travel Time'][i][0])*60)\n",
    "Time_to_Las_Rosas_DF"
   ]
  },
  {
   "cell_type": "markdown",
   "id": "fc1c9201",
   "metadata": {},
   "source": [
    "### Average time from Las Rosas to all stations is 43.6 mins"
   ]
  },
  {
   "cell_type": "code",
   "execution_count": 337,
   "id": "76317dd0",
   "metadata": {},
   "outputs": [
    {
     "data": {
      "text/plain": [
       "43.596363636363634"
      ]
     },
     "execution_count": 337,
     "metadata": {},
     "output_type": "execute_result"
    }
   ],
   "source": [
    "AVG = Time_to_Las_Rosas_DF['Travel Time'].mean()\n",
    "AVG"
   ]
  },
  {
   "cell_type": "code",
   "execution_count": 338,
   "id": "ab0ba0e9",
   "metadata": {},
   "outputs": [
    {
     "data": {
      "text/plain": [
       "<pymongo.results.InsertManyResult at 0x22946698780>"
      ]
     },
     "execution_count": 338,
     "metadata": {},
     "output_type": "execute_result"
    }
   ],
   "source": [
    "import pandas as pd\n",
    "import pymongo\n",
    "import json\n",
    "\n",
    "client = pymongo.MongoClient(\"mongodb://localhost:27017\")\n",
    "data = Time_to_Las_Rosas_DF.to_dict(orient = \"records\")\n",
    "db = client[\"Las_Rosas\"]\n",
    "db.Iris.insert_many(data)"
   ]
  },
  {
   "cell_type": "markdown",
   "id": "2d1215a9",
   "metadata": {},
   "source": [
    "<img src=\"../Tests/assets/Capture1.PNG\" alt=\"Home\" />\n",
    "<h3 align=\"center\">Picture-4</h3>"
   ]
  },
  {
   "cell_type": "code",
   "execution_count": null,
   "id": "d47e61a0",
   "metadata": {},
   "outputs": [],
   "source": []
  }
 ],
 "metadata": {
  "kernelspec": {
   "display_name": "Python 3",
   "language": "python",
   "name": "python3"
  },
  "language_info": {
   "codemirror_mode": {
    "name": "ipython",
    "version": 3
   },
   "file_extension": ".py",
   "mimetype": "text/x-python",
   "name": "python",
   "nbconvert_exporter": "python",
   "pygments_lexer": "ipython3",
   "version": "3.8.8"
  }
 },
 "nbformat": 4,
 "nbformat_minor": 5
}
